{
 "cells": [
  {
   "cell_type": "code",
   "execution_count": null,
   "metadata": {},
   "outputs": [],
   "source": [
    "# Dessa bibliotek är grundläggande verktyg inom dataanalys och visualisering i Python. \n",
    "# Varje bibliotek har sin egen uppsättning funktioner och användningsområden:\n",
    "\n",
    "# Numpy \n",
    "# ...är ett bibliotek för vetenskaplig beräkning i Python. \n",
    "# Det tillhandahåller stöd för stora, flerdimensionella arrayer och matriser, \n",
    "# tillsammans med en stor samling matematiska funktioner för att operera på \n",
    "# dessa arrayer. Användningen av Numpy möjliggör effektiv beräkning och \n",
    "# manipulation av data, vilket är fundamentalt inom dataanalys, maskininlärning, \n",
    "# och mer komplexa vetenskapliga beräkningar. Genom att importera Numpy som np \n",
    "# (en vanlig konvention) får man enkel tillgång till alla dess funktioner med \n",
    "# ett kort prefix.\n",
    "\n",
    "# Pandas \n",
    "# ...är ett bibliotek som tillhandahåller högnivå datastrukturer och \n",
    "# verktyg för dataanalys med Python. Dess centrala datastruktur, DataFrame, \n",
    "# gör det möjligt att lagra och manipulera tabellformad data \n",
    "# (dvs. data med rader och kolumner) på ett effektivt sätt. \n",
    "# Pandas är särskilt användbart för dataförberedelse, rensning, och analys. \n",
    "# Det erbjuder också funktioner för att läsa och skriva data mellan olika format \n",
    "# som CSV, Excel, SQL-databaser och mer.\n",
    "\n",
    "# Matplotlib\n",
    "# ...är ett plottingbibliotek för Python som erbjuder funktioner för att \n",
    "# skapa en mängd olika statiska, animerade och interaktiva visualiseringar. \n",
    "# Genom att importera pyplot modulen från Matplotlib, får användaren tillgång \n",
    "# till ett interface som liknar MATLABs, vilket gör det möjligt att enkelt \n",
    "# skapa figurer, diagram, grafer, etc. Matplotlib används ofta för att \n",
    "# visualisera data och resultat av analyser, vilket gör det enklare att förstå \n",
    "# och kommunicera information.\n",
    "\n",
    "# Seaborn \n",
    "# ...är ett Python-visualiseringsbibliotek baserat på Matplotlib som erbjuder \n",
    "# en högre abstraktionsnivå för att skapa vanliga statistiska grafik. \n",
    "# Det är inriktat på att skapa vackra och informativa statistiska grafik och \n",
    "# fungerar väl med Pandas DataFrame-objekt. \n",
    "# Seaborn kommer med en mängd förkonfigurerade teman och färgscheman för att \n",
    "# skapa attraktiva och informativa visualiseringar med mindre kod. \n",
    "# Det tillhandahåller även stöd för att visualisera komplexa relationer mellan data, \n",
    "# trendanalys och mycket mer.\n",
    "\n",
    "import numpy as np\n",
    "import pandas as pd\n",
    "import matplotlib.pyplot as plt\n",
    "import seaborn as sns"
   ]
  },
  {
   "cell_type": "code",
   "execution_count": null,
   "metadata": {},
   "outputs": [],
   "source": [
    "# Läsning och förståelse av datasetet\n",
    "# Använd pandas funktion read_csv för att läsa in det laddade datasetet \n",
    "# och funktionerna head() och tail() för att titta på \n",
    "# de första och sista fem raderna av data samt variablerna med deras \n",
    "# respektive värden. \n",
    "# Kolumnvärdena är i grund och botten egenskaper som kommer att användas \n",
    "# för att analysera datan.\n",
    "\n",
    "books = pd.read_csv('Bestsellers_With_Categories.csv')\n",
    "books.head()"
   ]
  },
  {
   "cell_type": "code",
   "execution_count": null,
   "metadata": {},
   "outputs": [],
   "source": [
    "books.tail()"
   ]
  },
  {
   "cell_type": "code",
   "execution_count": null,
   "metadata": {},
   "outputs": [],
   "source": [
    "books.info()"
   ]
  },
  {
   "cell_type": "code",
   "execution_count": null,
   "metadata": {},
   "outputs": [],
   "source": [
    "books.describe()"
   ]
  },
  {
   "cell_type": "code",
   "execution_count": null,
   "metadata": {},
   "outputs": [],
   "source": [
    "books.describe(include='object')"
   ]
  },
  {
   "cell_type": "code",
   "execution_count": null,
   "metadata": {},
   "outputs": [],
   "source": [
    "genre_counts=books.Genre.value_counts()\n",
    "genre_counts"
   ]
  },
  {
   "cell_type": "code",
   "execution_count": null,
   "metadata": {},
   "outputs": [],
   "source": [
    "plt.title('Fiction vs Non Fiction')\n",
    "sns.countplot(x='Genre', data=books)"
   ]
  },
  {
   "cell_type": "code",
   "execution_count": null,
   "metadata": {},
   "outputs": [],
   "source": [
    "plt.figure(figsize=(7,7))\n",
    "plt.title(\"Genre v/s Reviews\")\n",
    "sns.barplot(x = 'Genre',\n",
    "            y = 'Reviews',\n",
    "            data = books);"
   ]
  },
  {
   "cell_type": "code",
   "execution_count": null,
   "metadata": {},
   "outputs": [],
   "source": [
    "plt.figure(figsize = (9,4))\n",
    "sns.boxplot(data =books,x = 'Price',y =\"Genre\")\n",
    "plt.title(\"Genre-wise Distribution of Price\", fontsize = 18)\n",
    "plt.ylabel(\"Genre\", fontsize = 15)\n",
    "plt.xlabel(\"Price\",fontsize = 15)\n",
    "plt.show()"
   ]
  },
  {
   "cell_type": "code",
   "execution_count": null,
   "metadata": {},
   "outputs": [],
   "source": [
    "books_price = books.sort_values(\"Price\", ascending= False)[['Author', 'Price', 'Genre', 'Reviews']].head(20)\n",
    "plt.xticks(rotation = 90)   \n",
    "sns.barplot(x = 'Author', \n",
    "            y = 'Reviews', \n",
    "            data = books_price, hue = \"Genre\");"
   ]
  },
  {
   "cell_type": "code",
   "execution_count": null,
   "metadata": {},
   "outputs": [],
   "source": [
    "books_price\n"
   ]
  },
  {
   "cell_type": "code",
   "execution_count": null,
   "metadata": {},
   "outputs": [],
   "source": [
    "books_price.drop_duplicates()"
   ]
  },
  {
   "cell_type": "code",
   "execution_count": null,
   "metadata": {},
   "outputs": [],
   "source": [
    "print(books.Price.describe())\n",
    "print()\n",
    "books.Price.plot(bins=50, kind='hist')"
   ]
  },
  {
   "cell_type": "code",
   "execution_count": null,
   "metadata": {},
   "outputs": [],
   "source": [
    "books.Price.value_counts()[0]"
   ]
  },
  {
   "cell_type": "code",
   "execution_count": null,
   "metadata": {},
   "outputs": [],
   "source": [
    "books['Price'] = books['Price'].map( lambda x : books.Price.median() if x == 0 else x)\n",
    "books.Price.min()"
   ]
  },
  {
   "cell_type": "code",
   "execution_count": null,
   "metadata": {},
   "outputs": [],
   "source": [
    "df_fiction=books[books[\"Genre\"]==\"Fiction\"]\n",
    "df_nonfiction=books[books[\"Genre\"]==\"Non Fiction\"]\n",
    "df_fiction.Author.value_counts()"
   ]
  }
 ],
 "metadata": {
  "kernelspec": {
   "display_name": "Python 3",
   "language": "python",
   "name": "python3"
  },
  "language_info": {
   "codemirror_mode": {
    "name": "ipython",
    "version": 3
   },
   "file_extension": ".py",
   "mimetype": "text/x-python",
   "name": "python",
   "nbconvert_exporter": "python",
   "pygments_lexer": "ipython3",
   "version": "3.12.1"
  }
 },
 "nbformat": 4,
 "nbformat_minor": 2
}
