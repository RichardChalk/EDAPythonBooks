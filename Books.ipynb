{
 "cells": [
  {
   "cell_type": "code",
   "execution_count": null,
   "metadata": {},
   "outputs": [],
   "source": [
    "# Dessa bibliotek är grundläggande verktyg inom dataanalys och visualisering i Python. \n",
    "# Varje bibliotek har sin egen uppsättning funktioner och användningsområden:\n",
    "\n",
    "# Numpy \n",
    "# ...är ett bibliotek för vetenskaplig beräkning i Python. \n",
    "# Det tillhandahåller stöd för stora, flerdimensionella arrayer och matriser, \n",
    "# tillsammans med en stor samling matematiska funktioner för att operera på \n",
    "# dessa arrayer. Användningen av Numpy möjliggör effektiv beräkning och \n",
    "# manipulation av data, vilket är fundamentalt inom dataanalys, maskininlärning, \n",
    "# och mer komplexa vetenskapliga beräkningar.\n",
    "\n",
    "# Pandas \n",
    "# ...är ett bibliotek som tillhandahåller högnivå datastrukturer och \n",
    "# verktyg för dataanalys med Python. Dess centrala datastruktur, DataFrame, \n",
    "# gör det möjligt att lagra och manipulera tabellformad data \n",
    "# (dvs. data med rader och kolumner) på ett effektivt sätt. \n",
    "# Pandas är särskilt användbart för dataförberedelse, rensning, och analys. \n",
    "# Det erbjuder också funktioner för att läsa och skriva data mellan olika format \n",
    "# som CSV, Excel, SQL-databaser och mer.\n",
    "\n",
    "# Matplotlib\n",
    "# ...är ett plottingbibliotek för Python som erbjuder funktioner för att \n",
    "# skapa en mängd olika statiska, animerade och interaktiva visualiseringar. \n",
    "# Genom att importera pyplot modulen från Matplotlib, får användaren tillgång \n",
    "# till ett interface som liknar MATLABs, vilket gör det möjligt att enkelt \n",
    "# skapa figurer, diagram, grafer, etc. Matplotlib används ofta för att \n",
    "# visualisera data och resultat av analyser, vilket gör det enklare att förstå \n",
    "# och kommunicera information.\n",
    "\n",
    "# Seaborn \n",
    "# ...är ett Python-visualiseringsbibliotek baserat på Matplotlib som erbjuder \n",
    "# en högre abstraktionsnivå för att skapa vanliga statistiska grafik. \n",
    "# Det är inriktat på att skapa vackra och informativa statistiska grafik och \n",
    "# fungerar väl med Pandas DataFrame-objekt. \n",
    "# Seaborn kommer med en mängd förkonfigurerade teman och färgscheman för att \n",
    "# skapa attraktiva och informativa visualiseringar med mindre kod. \n",
    "# Det tillhandahåller även stöd för att visualisera komplexa relationer mellan data, \n",
    "# trendanalys och mycket mer.\n",
    "\n",
    "import numpy as np\n",
    "import pandas as pd\n",
    "import matplotlib.pyplot as plt\n",
    "import seaborn as sns"
   ]
  },
  {
   "cell_type": "code",
   "execution_count": null,
   "metadata": {},
   "outputs": [],
   "source": [
    "# Läsning och förståelse av datasetet\n",
    "# Använd pandas funktion read_csv för att läsa in det laddade datasetet \n",
    "# och funktionerna head() och tail() för att titta på \n",
    "# de första och sista fem raderna av data samt variablerna med deras \n",
    "# respektive värden. \n",
    "# Kolumnvärdena är i grund och botten egenskaper som kommer att användas \n",
    "# för att analysera datan.\n",
    "\n",
    "# Visa första de första 5 data poster....\n",
    "\n",
    "books = pd.read_csv('Bestsellers_With_Categories.csv')\n",
    "books.head()"
   ]
  },
  {
   "cell_type": "code",
   "execution_count": null,
   "metadata": {},
   "outputs": [],
   "source": [
    "# Vad tror ni denna gör?\n",
    "books.tail()"
   ]
  },
  {
   "cell_type": "code",
   "execution_count": null,
   "metadata": {},
   "outputs": [],
   "source": [
    "# .info() funktionen används för att få ytterligare detaljer om dessa \n",
    "# funktioner som visas. \n",
    "# Vi kan se att det finns 4 numeriska kolumner (float & int) \n",
    "# och 3 kategoriska kolumner (object)\n",
    "# genom att hänvisa till deras datatyper.\n",
    "books.info()"
   ]
  },
  {
   "cell_type": "code",
   "execution_count": null,
   "metadata": {},
   "outputs": [],
   "source": [
    "# Beskriv numeriska kolumner\n",
    "\n",
    "# count visar antalet icke-tomma rader (d.v.s. antalet poster).\n",
    "# mean är det aritmetiska medelvärdet av kolumnen.\n",
    "# std står för standardavvikelsen, som mäter spridningen av värdena i kolumnen.\n",
    "# min är det minsta värdet i kolumnen.\n",
    "# 25% är det första kvartilet.\n",
    "# 50% är medianen, eller det andra kvartilet.\n",
    "# 75% är det tredje kvartilet.\n",
    "# max är det högsta värdet i kolumnen.\n",
    "\n",
    "# Kvartil\n",
    "# För 'User Rating' kolumnen betyder 25% att 25% av betygen är lika med \n",
    "# eller lägre än 4.5. \n",
    "# För 'Reviews' kolumnen har 25% av böckerna fått 4058 recensioner eller färre. \n",
    "# För 'Price' kolumnen kostar 25% av böckerna 7 dollar eller mindre. \n",
    "# För 'Year' kolumnen är 25% av böckerna publicerade år 2011 eller tidigare.\n",
    "\n",
    "#Teori\n",
    "# https://medium.com/@vinitasilaparasetty/quartiles-for-beginners-in-data-science-cad074cf5d65\n",
    "books.describe()"
   ]
  },
  {
   "cell_type": "code",
   "execution_count": null,
   "metadata": {},
   "outputs": [],
   "source": [
    "# Beskriv kategoriska kolumner\n",
    "\n",
    "# count visar antalet icke-tomma rader (d.v.s. antalet poster) för varje kolumn.\n",
    "# unique anger antalet unika värden i kolumnen.\n",
    "# top anger det vanligaste värdet, eller modalvärdet, i kolumnen.\n",
    "# freq anger hur många gånger det vanligaste värdet förekommer i kolumnen.\n",
    "books.describe(include='object')"
   ]
  },
  {
   "cell_type": "code",
   "execution_count": null,
   "metadata": {},
   "outputs": [],
   "source": [
    "# Vi kan räkna hur många data poster finns i kolumnen 'Genre'\n",
    "\n",
    "genre_counts=books.Genre.value_counts()\n",
    "genre_counts"
   ]
  },
  {
   "cell_type": "code",
   "execution_count": null,
   "metadata": {},
   "outputs": [],
   "source": [
    "# ... och även visa det i en stapeldiagram\n",
    "\n",
    "plt.title('Fiction vs Non Fiction')\n",
    "sns.countplot(x='Genre', data=books)"
   ]
  },
  {
   "cell_type": "code",
   "execution_count": null,
   "metadata": {},
   "outputs": [],
   "source": [
    "# Låt oss analysera två kolumner tillsammans och se resultaten, \n",
    "# här är antalet recensioner plottade mot genren, \n",
    "# och det kan tydligt ses att skönlitterära böcker har fler \n",
    "# recensioner än icke-skönlitterära böcker.\n",
    "\n",
    "# De två svarta strecken på stapeldiagrammet representerar felstaplar. \n",
    "# De visar variabiliteten i data och används för att ge en visuell \n",
    "# indikation på osäkerhet kring mätningen. \n",
    "# Mer specifikt, de representerar ofta standardavvikelsen, för data. \n",
    "# I detta fall anger de spridningen av antalet recensioner för varje genre – \n",
    "# med andra ord, \n",
    "# Hur mycket antalet recensioner varierar från det genomsnittliga värdet \n",
    "# för varje genre.\n",
    "\n",
    "plt.figure(figsize=(7,7))\n",
    "plt.title(\"Genre v/s Reviews\")\n",
    "sns.barplot(x = 'Genre',\n",
    "            y = 'Reviews',\n",
    "            data = books);"
   ]
  },
  {
   "cell_type": "code",
   "execution_count": null,
   "metadata": {},
   "outputs": [],
   "source": [
    "# Vi kan också implementera lådagram (boxplot) för att visualisera \n",
    "# distributionen av böcker över olika kolumner, som ett exempel här, \n",
    "# visas prisfördelningen av böcker över genren och priset.\n",
    "\n",
    "# Fördjupa din kunskap\n",
    "# https://chartio.com/learn/charts/box-plot-complete-guide/\n",
    "\n",
    "# Lådan (den blå delen): \n",
    "# De centrala 50% av datan ligger inom denna låda. \n",
    "# Den undre kanten av lådan (vänster) kallas för det första kvartilet (25:e percentilen), \n",
    "# vilket innebär att 25% av datan ligger under denna nivå. \n",
    "# Den övre kanten av lådan (höger) kallas för det tredje kvartilet (75:e percentilen), \n",
    "# vilket innebär att 75% av datan ligger under denna nivå. Mellan dessa två kvartiler ligger medianen (den andra kvartilet eller 50:e percentilen) som är markerad av en linje i lådan. Medianen är det värde som delar datan i två lika stora halvor.\n",
    "\n",
    "# Vipparna (de vertikala linjerna): \n",
    "# Dessa linjer sträcker sig från det första och tredje kvartilet \n",
    "# till det minsta och största värdet som inte är en utliggare. \n",
    "# De ger en visuell representation av spridningen av datan och \n",
    "# kallas ibland för \"mustascher\".\n",
    "\n",
    "# Utliggare (de små cirklarna): \n",
    "# Dessa punkter ligger utanför vipparna och representerar värden som avviker \n",
    "# mycket från resten av datan. \n",
    "# De kan betraktas som ovanligt höga eller låga i jämförelse med den \n",
    "# huvudsakliga datamängden.\n",
    "\n",
    "# I exemplet nedan ser vi att priset på skönlitteratur och \n",
    "# icke-skönlitteratur har olika spridningar och medianvärden. \n",
    "# Skönlitteraturen har flera utliggare som indikerar att det finns några \n",
    "# skönlitterära böcker med ovanligt höga priser jämfört med majoriteten.\n",
    "\n",
    "# Median\n",
    "# för Non fiction ligger på ca. 14 (mittersta sträcket i den blåa boxen)\n",
    "# för Fiction ligger på ca. 10 (mittersta sträcket i den blåa boxen)\n",
    "\n",
    "plt.figure(figsize = (9,4))\n",
    "sns.boxplot(data =books,x = 'Price',y =\"Genre\")\n",
    "plt.title(\"Genre-wise Distribution of Price\", fontsize = 18)\n",
    "plt.ylabel(\"Genre\", fontsize = 15)\n",
    "plt.xlabel(\"Price\",fontsize = 15)\n",
    "plt.show()"
   ]
  },
  {
   "cell_type": "code",
   "execution_count": null,
   "metadata": {},
   "outputs": [],
   "source": [
    "# Nedan visas ett stapeldiagram med dubbla staplar, \n",
    "# de kan vara användbara i fall som dessa när vi har två uppsättningar \n",
    "# data som här med skönlitterära och icke-skönlitterära böcker. \n",
    "# Så, data från båda dessa uppsättningar kan visualiseras i ett och samma diagram.\n",
    "\n",
    "# Det är för många Authors i datafilen så vi se till att sortera på priset \n",
    "# och endast redovisar för de 20 dyraste böckerna?\n",
    "# Uppdatera denna rad...\n",
    "#   data = books_price, hue = \"Genre\");\n",
    "# till =>\n",
    "#   data = books, hue = \"Genre\");\n",
    "# Vad händer?\n",
    "\n",
    "\n",
    "books_price = books.sort_values(\"Price\", ascending= False)[['Author', 'Price', 'Genre', 'Reviews']].head(20)\n",
    "plt.xticks(rotation = 90)   \n",
    "sns.barplot(x = 'Author', \n",
    "            y = 'Reviews', \n",
    "            data = books_price, hue = \"Genre\");"
   ]
  },
  {
   "cell_type": "code",
   "execution_count": null,
   "metadata": {},
   "outputs": [],
   "source": [
    "# Här ser vi de 20 dyraste böcker listad\n",
    "# (Det är denna lista som vi använde till stapeldigramet ovanpå)\n",
    "books_price\n"
   ]
  },
  {
   "cell_type": "code",
   "execution_count": null,
   "metadata": {},
   "outputs": [],
   "source": [
    "# Vi kan även ta bort dubbletter om det finns några...\n",
    "books_price.drop_duplicates()"
   ]
  },
  {
   "cell_type": "code",
   "execution_count": null,
   "metadata": {},
   "outputs": [],
   "source": [
    "# Vi kan också använda describe() metoden för att titta på endast 1 kolumn!\n",
    "# I detta fall 'Price'...och skapa en Histogram samtidigt...\n",
    "\n",
    "# Vi skapar 50 bins i vår histogram...\n",
    "# Så varje bin på x axis motsvarar ca. 2,1 dollar (max 105 / 50 = )\n",
    "\n",
    "# Hmmmm det är något konstigt här... minimum Price på en bok är 0! Gratis eller?\n",
    "\n",
    "print(books.Price.describe())\n",
    "print()\n",
    "books.Price.plot(bins=50, kind='hist')"
   ]
  },
  {
   "cell_type": "code",
   "execution_count": null,
   "metadata": {},
   "outputs": [],
   "source": [
    "# Vi såg i statistiken om pris att det minsta värdet av pris i dataramen är '0'. \n",
    "# Detta är inte önskvärt eftersom priser på bästsäljande böcker inte kan vara '0'. \n",
    "# För att åtgärda detta problem börjar vi först med att titta på \n",
    "# antalet '0' värden i priskolumnen: (det verkar finnas 12 st. med Price 0)\n",
    "\n",
    "books.Price.value_counts()[0]"
   ]
  },
  {
   "cell_type": "code",
   "execution_count": null,
   "metadata": {},
   "outputs": [],
   "source": [
    "# \"För varje pris i kolumnen 'Price', \n",
    "# Om priset är 0, ersätt det med medianpriset av alla böcker i dataramen. \n",
    "# Om priset inte är 0, lämna det som det är.\"\n",
    "\n",
    "# Nu ser vi att det lägsta priset är 1.... och inte 0 som det var innan!\n",
    "# Är det rimligt att en bok kostar 1? Nja... kanske inte...\n",
    "# men vi har gjort oss av med all 0 i alla fall :)\n",
    "\n",
    "books['Price'] = books['Price'].map( lambda x : books.Price.median() if x == 0 else x)\n",
    "books.Price.min()\n"
   ]
  },
  {
   "cell_type": "code",
   "execution_count": null,
   "metadata": {},
   "outputs": [],
   "source": [
    "# Ibland vill vi uteslutande analysera en specifik kategori, \n",
    "# och för att underlätta detta kan datamängden delas upp i underdatamängder. \n",
    "# Här delas den upp i skönlitteratur och icke-skönlitteratur genom att \n",
    "# använda nästling inom dataramen:\n",
    "\n",
    "df_fiction=books[books[\"Genre\"]==\"Fiction\"]\n",
    "df_nonfiction=books[books[\"Genre\"]==\"Non Fiction\"]\n",
    "\n",
    "# Nu tittar vi endast på FICTION\n",
    "df_fiction.Author.value_counts()\n",
    "\n",
    "# ELLER Nu tittar vi endast på NON FICTION\n",
    "# df_nonfiction.Author.value_counts()"
   ]
  },
  {
   "cell_type": "code",
   "execution_count": null,
   "metadata": {},
   "outputs": [],
   "source": [
    "# Det är också möjligt att dela upp data i intervall för att få meningsfulla insikter, \n",
    "# här delas prisvärdena in i tre intervall som visas genom att använda cut-funktionen \n",
    "# från pandas och en ny kolumn som kallas PriceRange skapas. \n",
    "books['PriceRange'] = pd.cut(books['Price'], \n",
    "                             3,labels=['low range <= $35','mid range<=$70','high range <=$150'])\n",
    "\n",
    "books['PriceRange'].value_counts()"
   ]
  }
 ],
 "metadata": {
  "kernelspec": {
   "display_name": "Python 3",
   "language": "python",
   "name": "python3"
  },
  "language_info": {
   "codemirror_mode": {
    "name": "ipython",
    "version": 3
   },
   "file_extension": ".py",
   "mimetype": "text/x-python",
   "name": "python",
   "nbconvert_exporter": "python",
   "pygments_lexer": "ipython3",
   "version": "3.12.1"
  }
 },
 "nbformat": 4,
 "nbformat_minor": 2
}
